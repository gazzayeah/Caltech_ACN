{
 "cells": [
  {
   "cell_type": "markdown",
   "metadata": {},
   "source": [
    "## Import the libraries"
   ]
  },
  {
   "cell_type": "code",
   "execution_count": 1,
   "metadata": {},
   "outputs": [],
   "source": [
    "# Standard\n",
    "import numpy as np            # Handle matrices\n",
    "from scipy import stats\n",
    "import math\n",
    "\n",
    "# EV data management\n",
    "import data_collection        # Get EV Charging Data\n",
    "import pymongo\n",
    "import bson\n",
    "from datetime import datetime, timedelta\n",
    "\n",
    "# RL packages\n",
    "import random                 # Handling random number generation\n",
    "from random import choices\n",
    "from collections import deque # Ordered collection with ends"
   ]
  },
  {
   "cell_type": "markdown",
   "metadata": {},
   "source": [
    "## Collect and process real data"
   ]
  },
  {
   "cell_type": "code",
   "execution_count": 2,
   "metadata": {},
   "outputs": [],
   "source": [
    "# Acquire data from database; Run once\n",
    "# Database information\n",
    "# For training\n",
    "acn  = 'JplACN'\n",
    "start = datetime(2018, 11,1)\n",
    "end = datetime(2019, 4,2)\n",
    "dt = timedelta(days = 1)\n",
    "dates = np.arange(start, end, dt).astype(datetime)\n",
    "day = 0\n",
    "number_train_days= 0\n",
    "for date in dates:\n",
    "    # Eliminate weekends\n",
    "    if date.weekday() != 5 and date.weekday() != 6:\n",
    "        charging_start = date\n",
    "        charging_end = date + timedelta(1)\n",
    "        data_train = data_collection.get_data(acn, charging_start, charging_end, cond='ALL')\n",
    "        # If at least 10 cars came\n",
    "        if data_train.size>= 30:\n",
    "            number_train_days = number_train_days+1\n",
    "            name = 'real_train/data' + str(day) + '.npy'\n",
    "            np.save(name, data_train)\n",
    "            day=day+1"
   ]
  },
  {
   "cell_type": "code",
   "execution_count": 5,
   "metadata": {},
   "outputs": [],
   "source": [
    "# For testing\n",
    "start = datetime(2019, 4,2)\n",
    "end = datetime(2019, 5,2)\n",
    "dt = timedelta(days = 1)\n",
    "dates = np.arange(start, end, dt).astype(datetime)\n",
    "day = 0\n",
    "number_test_days= 0\n",
    "for date in dates:\n",
    "    # Eliminate weekends\n",
    "    if date.weekday() != 5 and date.weekday() != 6:\n",
    "        charging_start = date\n",
    "        charging_end = date + timedelta(1)\n",
    "        data_test = data_collection.get_data(acn, charging_start, charging_end, cond='ALL')\n",
    "        # If at least 10 cars came\n",
    "        if data_test.size>= 30:\n",
    "            number_test_days = number_test_days+1\n",
    "            name = 'real_test/data' + str(day) + '.npy'\n",
    "            np.save(name, data_test)\n",
    "            day=day+1"
   ]
  },
  {
   "cell_type": "code",
   "execution_count": 6,
   "metadata": {},
   "outputs": [],
   "source": [
    "# Load data\n",
    "# Clean up training data\n",
    "for day in range(number_train_days):\n",
    "    name_train = 'real_train/data' + str(day) + '.npy'\n",
    "    data_train = np.load(name_train)\n",
    "    for car in range(np.size(data_train,0)):\n",
    "        # Eliminate over-night cars\n",
    "        if data_train[car,0] + data_train[car,1] > 24:\n",
    "            np.delete(data_train,car,0)\n",
    "    # Sort according to arrivial time\n",
    "    data_train =  data_train[data_train[:,0].argsort()]\n",
    "    np.save(name_train, data_train)"
   ]
  },
  {
   "cell_type": "code",
   "execution_count": 29,
   "metadata": {},
   "outputs": [
    {
     "name": "stdout",
     "output_type": "stream",
     "text": [
      "22\n"
     ]
    }
   ],
   "source": [
    "print(number_test_days)"
   ]
  },
  {
   "cell_type": "code",
   "execution_count": 7,
   "metadata": {},
   "outputs": [],
   "source": [
    "# Load data\n",
    "# Clean up testing data\n",
    "for day in range(number_test_days):\n",
    "    name_test = 'real_test/data' + str(day) + '.npy'\n",
    "    data_test = np.load(name_test)\n",
    "    for car in range(np.size(data_test,0)):\n",
    "        # Eliminate over-night cars\n",
    "        if data_test[car,0] + data_test[car,1] > 24:\n",
    "            np.delete(data_test,car,0)\n",
    "    # Sort according to arrivial time\n",
    "    data_test =  data_test[data_test[:,0].argsort()]\n",
    "    np.save(name_test, data_test)"
   ]
  },
  {
   "cell_type": "code",
   "execution_count": 2,
   "metadata": {},
   "outputs": [
    {
     "ename": "NameError",
     "evalue": "name 'np' is not defined",
     "output_type": "error",
     "traceback": [
      "\u001b[0;31m---------------------------------------------------------------------------\u001b[0m",
      "\u001b[0;31mNameError\u001b[0m                                 Traceback (most recent call last)",
      "\u001b[0;32m<ipython-input-2-a464311827a2>\u001b[0m in \u001b[0;36m<module>\u001b[0;34m\u001b[0m\n\u001b[1;32m      2\u001b[0m \u001b[0;32mfor\u001b[0m \u001b[0mday\u001b[0m \u001b[0;32min\u001b[0m \u001b[0mrange\u001b[0m\u001b[0;34m(\u001b[0m\u001b[0;36m50\u001b[0m\u001b[0;34m)\u001b[0m\u001b[0;34m:\u001b[0m\u001b[0;34m\u001b[0m\u001b[0;34m\u001b[0m\u001b[0m\n\u001b[1;32m      3\u001b[0m     \u001b[0mname\u001b[0m \u001b[0;34m=\u001b[0m \u001b[0;34m'real_train/data'\u001b[0m \u001b[0;34m+\u001b[0m \u001b[0mstr\u001b[0m\u001b[0;34m(\u001b[0m\u001b[0mday\u001b[0m\u001b[0;34m)\u001b[0m \u001b[0;34m+\u001b[0m \u001b[0;34m'.npy'\u001b[0m\u001b[0;34m\u001b[0m\u001b[0;34m\u001b[0m\u001b[0m\n\u001b[0;32m----> 4\u001b[0;31m     \u001b[0mdata\u001b[0m \u001b[0;34m=\u001b[0m \u001b[0mnp\u001b[0m\u001b[0;34m.\u001b[0m\u001b[0mload\u001b[0m\u001b[0;34m(\u001b[0m\u001b[0mname\u001b[0m\u001b[0;34m)\u001b[0m\u001b[0;34m\u001b[0m\u001b[0;34m\u001b[0m\u001b[0m\n\u001b[0m\u001b[1;32m      5\u001b[0m     \u001b[0mprint\u001b[0m\u001b[0;34m(\u001b[0m\u001b[0mdata\u001b[0m\u001b[0;34m[\u001b[0m\u001b[0;34m:\u001b[0m\u001b[0;34m,\u001b[0m\u001b[0;36m0\u001b[0m\u001b[0;34m:\u001b[0m\u001b[0;36m3\u001b[0m\u001b[0;34m]\u001b[0m\u001b[0;34m)\u001b[0m\u001b[0;34m\u001b[0m\u001b[0;34m\u001b[0m\u001b[0m\n\u001b[1;32m      6\u001b[0m     \u001b[0;31m## Max rate\u001b[0m\u001b[0;34m\u001b[0m\u001b[0;34m\u001b[0m\u001b[0;34m\u001b[0m\u001b[0m\n",
      "\u001b[0;31mNameError\u001b[0m: name 'np' is not defined"
     ]
    }
   ],
   "source": [
    "# Test\n",
    "for day in range(50):\n",
    "    name = 'real_train/data' + str(day) + '.npy'\n",
    "    data = np.load(name)\n",
    "    print(data[:,0:3])\n",
    "    ## Max rate\n",
    "    # print(max(data[0:len(data),2]/data[0:len(data),1]))\n",
    "#     print(data[np.argmax(data[0:len(data),2]/data[0:len(data),1]),1])"
   ]
  },
  {
   "cell_type": "code",
   "execution_count": null,
   "metadata": {},
   "outputs": [],
   "source": []
  },
  {
   "cell_type": "markdown",
   "metadata": {},
   "source": [
    "## Generate fake data"
   ]
  },
  {
   "cell_type": "code",
   "execution_count": 3,
   "metadata": {},
   "outputs": [],
   "source": [
    "number_days = 60\n",
    "time_interval = 2\n",
    "data = np.zeros((200,3))\n",
    "\n",
    "for day in range(number_days):\n",
    "    time = 0\n",
    "    for car in range(200):\n",
    "        data[car,0] = time\n",
    "        time = time + time_interval\n",
    "        data[car,1] = 15\n",
    "        data[car,2] = 4\n",
    "    name = 'fake/data' + str(day)\n",
    "    np.save(name, data)"
   ]
  },
  {
   "cell_type": "code",
   "execution_count": 10,
   "metadata": {},
   "outputs": [
    {
     "name": "stdout",
     "output_type": "stream",
     "text": [
      "4.0\n"
     ]
    }
   ],
   "source": [
    "# Test\n",
    "day = 11\n",
    "name = 'fake/data' + str(day) + '.npy'\n",
    "data = np.load(name)\n",
    "print(data[0,2])"
   ]
  },
  {
   "cell_type": "markdown",
   "metadata": {},
   "source": [
    "## Generate real data for aggregate flexibility metrics"
   ]
  },
  {
   "cell_type": "code",
   "execution_count": 12,
   "metadata": {},
   "outputs": [],
   "source": [
    "# Caltech\n",
    "# Acquire data from database; Run once\n",
    "# Database information\n",
    "acn  = 'CaltechACN'\n",
    "start = datetime(2018, 9,1)\n",
    "end = datetime(2019, 9,1)\n",
    "dt = timedelta(days = 1)\n",
    "dates = np.arange(start, end, dt).astype(datetime)\n",
    "day = 0\n",
    "number_days= 0\n",
    "\n",
    "# Generate data files\n",
    "for date in dates:\n",
    "        charging_start = date\n",
    "        charging_end = date + timedelta(1)\n",
    "        data = data_collection.get_data(acn, charging_start, charging_end, cond='ALL')\n",
    "        number_days = number_days+1\n",
    "        name = 'real_greedy/data' + str(day) + '.npy'\n",
    "        np.save(name, data)\n",
    "        day=day+1\n",
    "\n",
    "# Polish data\n",
    "for day in range(number_days):\n",
    "    name = 'real_greedy/data' + str(day) + '.npy'\n",
    "    data = np.load(name)\n",
    "    for car in range(np.size(data,0)):\n",
    "        # Eliminate over-night cars\n",
    "        if data[car,0] + data[car,1] > 24:\n",
    "            np.delete(data,car,0)\n",
    "    # Sort according to arrivial time\n",
    "    data =  data[data[:,0].argsort()]\n",
    "    np.save(name, data)"
   ]
  },
  {
   "cell_type": "code",
   "execution_count": 13,
   "metadata": {},
   "outputs": [],
   "source": [
    "# JPL\n",
    "# Acquire data from database; Run once\n",
    "# Database information\n",
    "acn  = 'JplACN'\n",
    "start = datetime(2018, 11,1)\n",
    "end = datetime(2019, 9,1)\n",
    "dt = timedelta(days = 1)\n",
    "dates = np.arange(start, end, dt).astype(datetime)\n",
    "day = 0\n",
    "number_days= 0\n",
    "\n",
    "# Generate data files\n",
    "for date in dates:\n",
    "    charging_start = date\n",
    "    charging_end = date + timedelta(1)\n",
    "    data = data_collection.get_data(acn, charging_start, charging_end, cond='ALL')\n",
    "    number_days = number_days+1\n",
    "    name = 'real_greedy_jpl/data' + str(day) + '.npy'\n",
    "    np.save(name, data)\n",
    "    day=day+1\n",
    "\n",
    "# Polish data\n",
    "for day in range(number_days):\n",
    "    name = 'real_greedy_jpl/data' + str(day) + '.npy'\n",
    "    data = np.load(name)\n",
    "    for car in range(np.size(data,0)):\n",
    "        # Eliminate over-night cars\n",
    "        if data[car,0] + data[car,1] > 24:\n",
    "            np.delete(data,car,0)\n",
    "    # Sort according to arrivial time\n",
    "    if len(data)!=0:\n",
    "        data =  data[data[:,0].argsort()]\n",
    "        np.save(name, data)"
   ]
  },
  {
   "cell_type": "code",
   "execution_count": 28,
   "metadata": {},
   "outputs": [
    {
     "name": "stdout",
     "output_type": "stream",
     "text": [
      "right\n"
     ]
    }
   ],
   "source": [
    "if len(data)==0:\n",
    "    print('right')"
   ]
  },
  {
   "cell_type": "code",
   "execution_count": 27,
   "metadata": {},
   "outputs": [
    {
     "name": "stdout",
     "output_type": "stream",
     "text": [
      "[[ 0.61222222 10.85333333  3.521     ]\n",
      " [ 2.4575     12.51083333 41.434     ]\n",
      " [ 3.5675      1.65638889  5.519     ]\n",
      " [ 7.01861111  2.06777778  2.257     ]\n",
      " [ 7.11861111  1.40111111  5.979     ]\n",
      " [ 7.33972222  1.00111111  6.668     ]\n",
      " [ 7.38694444  8.37166667  9.241     ]\n",
      " [ 8.68722222  1.46805556  2.743     ]\n",
      " [ 9.17333333  1.42722222  4.632     ]\n",
      " [10.84138889  2.28888889  7.48      ]\n",
      " [11.38083333  2.17666667  6.945     ]\n",
      " [11.38777778  1.11        7.284     ]\n",
      " [11.64666667  0.14666667  0.872     ]\n",
      " [12.08638889  3.34388889 11.376     ]\n",
      " [12.25222222  3.89027778  2.673     ]\n",
      " [12.50666667  1.40777778  9.548     ]\n",
      " [12.61305556  3.90027778 12.947     ]\n",
      " [13.11527778  5.24638889  6.603     ]\n",
      " [13.26611111  0.82861111  2.713     ]\n",
      " [13.26916667  7.37027778 13.238     ]\n",
      " [13.36472222  4.55277778 13.927     ]\n",
      " [13.38194444  4.72972222 13.884     ]\n",
      " [13.43638889  2.765       0.717     ]\n",
      " [13.6225     10.05416667 13.902     ]\n",
      " [13.82472222  2.0075     11.561     ]\n",
      " [13.92305556  2.23416667 10.075     ]\n",
      " [13.93388889  2.19805556 12.992     ]\n",
      " [13.95361111  2.3775     13.897     ]\n",
      " [14.11611111  2.9875     13.913     ]\n",
      " [14.16916667  1.15722222  5.385     ]\n",
      " [14.20472222  1.41527778  7.39      ]\n",
      " [14.26472222  0.2125      1.293     ]\n",
      " [15.06583333  1.20861111  7.934     ]\n",
      " [15.2675      6.12444444 13.878     ]\n",
      " [15.60416667  0.34916667  2.306     ]\n",
      " [16.135       2.75972222  7.609     ]\n",
      " [16.24138889  2.00222222  4.928     ]\n",
      " [16.34583333  1.39472222  1.043     ]\n",
      " [16.73722222  1.89138889 12.578     ]\n",
      " [17.89388889  0.22333333  1.439     ]\n",
      " [18.28388889  0.47611111  1.553     ]\n",
      " [18.31666667  0.26555556  1.724     ]\n",
      " [21.3175     14.04638889 13.921     ]\n",
      " [23.11555556  0.31194444  0.957     ]\n",
      " [23.17583333 11.72027778  7.441     ]]\n"
     ]
    }
   ],
   "source": [
    "# Test\n",
    "day = 1\n",
    "name = 'real_greedy/data' + str(day) + '.npy'\n",
    "data = np.load(name)\n",
    "\n",
    "\n",
    "name1 = '/Users/tonytiny/Documents/GitHub/aggregate_flexibility/results/aggregate_flexibility.npy'\n",
    "test = np.load(name1)\n",
    "print(data)"
   ]
  },
  {
   "cell_type": "code",
   "execution_count": null,
   "metadata": {},
   "outputs": [],
   "source": []
  }
 ],
 "metadata": {
  "kernelspec": {
   "display_name": "Python 3",
   "language": "python",
   "name": "python3"
  },
  "language_info": {
   "codemirror_mode": {
    "name": "ipython",
    "version": 3
   },
   "file_extension": ".py",
   "mimetype": "text/x-python",
   "name": "python",
   "nbconvert_exporter": "python",
   "pygments_lexer": "ipython3",
   "version": "3.6.8"
  }
 },
 "nbformat": 4,
 "nbformat_minor": 2
}
